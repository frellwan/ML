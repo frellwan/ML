{
 "cells": [
  {
   "cell_type": "code",
   "execution_count": 1,
   "metadata": {},
   "outputs": [],
   "source": [
    "ozone = read.table(\"C:\\\\Users\\\\frell\\\\Documents\\\\GitHub\\\\Stat578\\\\HW5\\\\ozoneAQIaug.txt\", header = TRUE)"
   ]
  },
  {
   "cell_type": "code",
   "execution_count": 2,
   "metadata": {},
   "outputs": [
    {
     "ename": "ERROR",
     "evalue": "Error in library(rjags): there is no package called 'rjags'\n",
     "output_type": "error",
     "traceback": [
      "Error in library(rjags): there is no package called 'rjags'\nTraceback:\n",
      "1. library(rjags)"
     ]
    }
   ],
   "source": [
    "library(rjags)\n",
    "\n",
    "d1 <- list(logozone = log(ozone[,c(1:31)]), day = c(1:31), mubeta0 = c(0, 0),\n",
    "           Sigmamubetainv = rbind(c(0.000001, 0), c(0, 0.000001)),\n",
    "           Sigma0 = rbind(c(100, 0), c(0, 0.1)))\n",
    "\n",
    "#Set overdispersed starting points \n",
    "inits1 <- list(list(sigmasqyinv = 10, mubeta = c(1000, 1000), \n",
    "                    Sigmabetainv = rbind(c(100, 0), c(0, 100))),\n",
    "               list(sigmasqyinv = 0.001, mubeta = c(-1000, 1000),\n",
    "                    Sigmabetainv = rbind(c(100, 0), c(0, 100))),\n",
    "               list(sigmasqyinv = 10, mubeta = c(1000, -1000),\n",
    "                    Sigmabetainv = rbind(c(0.001, 0), c(0, 0.001))),\n",
    "               list(sigmasqyinv = 0.001, mubeta = c(-1000, -1000),\n",
    "                    Sigmabetainv = rbind(c(0.001, 0),c(0, 0.001))))\n",
    "\n",
    "#Setup model\n",
    "m1 <- jags.model(\"ozone1.bug\", d1, inits1, n.chains=4, n.adapt=2000)\n",
    "\n",
    "#Burn-in\n",
    "update(m1, 20000)\n",
    "\n",
    "#Run model\n",
    "x1 <- coda.samples(m1, c(\"mubeta[1]\",\"mubeta[2]\",\"Sigmabeta[1,1]\",\"Sigmabeta[1,2]\",\n",
    "                   \"Sigmabeta[2,2]\",\"sigmasqy\",\"rho\"), n.iter=2000)\n",
    "\n",
    "#Check for convergence\n",
    "plot(x1, smooth = FALSE)"
   ]
  },
  {
   "cell_type": "code",
   "execution_count": 3,
   "metadata": {},
   "outputs": [
    {
     "ename": "ERROR",
     "evalue": "Error in install.packages(rjags): object 'rjags' not found\n",
     "output_type": "error",
     "traceback": [
      "Error in install.packages(rjags): object 'rjags' not found\nTraceback:\n",
      "1. install.packages(rjags)"
     ]
    }
   ],
   "source": [
    "install.packages(rjags)"
   ]
  },
  {
   "cell_type": "code",
   "execution_count": null,
   "metadata": {},
   "outputs": [],
   "source": []
  }
 ],
 "metadata": {
  "kernelspec": {
   "display_name": "R",
   "language": "R",
   "name": "ir"
  },
  "language_info": {
   "codemirror_mode": "r",
   "file_extension": ".r",
   "mimetype": "text/x-r-source",
   "name": "R",
   "pygments_lexer": "r",
   "version": "3.6.1"
  }
 },
 "nbformat": 4,
 "nbformat_minor": 2
}
